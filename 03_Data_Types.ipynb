{
  "nbformat": 4,
  "nbformat_minor": 0,
  "metadata": {
    "colab": {
      "name": "03_Data_Types.ipynb",
      "provenance": [],
      "toc_visible": true,
      "include_colab_link": true
    },
    "kernelspec": {
      "name": "python3",
      "display_name": "Python 3"
    },
    "language_info": {
      "name": "python"
    }
  },
  "cells": [
    {
      "cell_type": "markdown",
      "metadata": {
        "id": "view-in-github",
        "colab_type": "text"
      },
      "source": [
        "<a href=\"https://colab.research.google.com/github/itahdnura/fmml2021/blob/main/03_Data_Types.ipynb\" target=\"_parent\"><img src=\"https://colab.research.google.com/assets/colab-badge.svg\" alt=\"Open In Colab\"/></a>"
      ]
    },
    {
      "cell_type": "markdown",
      "metadata": {
        "id": "CPk9Hiozv8JE"
      },
      "source": [
        "#### Basic Data Types - Integer, Float, Boolean, String, None"
      ]
    },
    {
      "cell_type": "code",
      "metadata": {
        "id": "FkdEec_QriO_"
      },
      "source": [
        "some_int = 3"
      ],
      "execution_count": 1,
      "outputs": []
    },
    {
      "cell_type": "code",
      "metadata": {
        "id": "IJ6gUIS24QPb",
        "outputId": "ba1e5f0e-0af6-4292-ff9b-7412fb38e69f",
        "colab": {
          "base_uri": "https://localhost:8080/"
        }
      },
      "source": [
        "type(some_int)"
      ],
      "execution_count": 2,
      "outputs": [
        {
          "output_type": "execute_result",
          "data": {
            "text/plain": [
              "int"
            ]
          },
          "metadata": {},
          "execution_count": 2
        }
      ]
    },
    {
      "cell_type": "code",
      "metadata": {
        "id": "VTce7evQ0ZJ-"
      },
      "source": [
        "some_int += 4"
      ],
      "execution_count": 3,
      "outputs": []
    },
    {
      "cell_type": "code",
      "metadata": {
        "id": "F9kJID_q4Vul",
        "outputId": "fdfdedab-0e3a-43df-f515-c71168a5d1ff",
        "colab": {
          "base_uri": "https://localhost:8080/"
        }
      },
      "source": [
        "some_int"
      ],
      "execution_count": 4,
      "outputs": [
        {
          "output_type": "execute_result",
          "data": {
            "text/plain": [
              "7"
            ]
          },
          "metadata": {},
          "execution_count": 4
        }
      ]
    },
    {
      "cell_type": "code",
      "metadata": {
        "id": "tBmSj1-P0a52"
      },
      "source": [
        "some_other_int = int(5) # casting"
      ],
      "execution_count": 5,
      "outputs": []
    },
    {
      "cell_type": "code",
      "metadata": {
        "id": "Lmdkh7DI4d51",
        "outputId": "77ea7d93-8c46-4ab4-a0fc-6bd6678df569",
        "colab": {
          "base_uri": "https://localhost:8080/"
        }
      },
      "source": [
        "some_other_int"
      ],
      "execution_count": 6,
      "outputs": [
        {
          "output_type": "execute_result",
          "data": {
            "text/plain": [
              "5"
            ]
          },
          "metadata": {},
          "execution_count": 6
        }
      ]
    },
    {
      "cell_type": "code",
      "metadata": {
        "id": "iNTYkoVX0dAF"
      },
      "source": [
        "some_float = 3.0"
      ],
      "execution_count": 7,
      "outputs": []
    },
    {
      "cell_type": "code",
      "metadata": {
        "id": "8893F0us0e8U",
        "outputId": "5c2b5902-8eea-4c10-a561-1d9689d25bfd",
        "colab": {
          "base_uri": "https://localhost:8080/"
        }
      },
      "source": [
        "type (some_float)"
      ],
      "execution_count": 8,
      "outputs": [
        {
          "output_type": "execute_result",
          "data": {
            "text/plain": [
              "float"
            ]
          },
          "metadata": {},
          "execution_count": 8
        }
      ]
    },
    {
      "cell_type": "code",
      "metadata": {
        "id": "8-XVO-4P4npP",
        "outputId": "260acb47-6a5c-46f6-c116-fcabac208f97",
        "colab": {
          "base_uri": "https://localhost:8080/"
        }
      },
      "source": [
        "some_int = 3\n",
        "some_other_int = 8\n",
        "something = some_other_int / some_int\n",
        "type(something)\n",
        "print (something)"
      ],
      "execution_count": 9,
      "outputs": [
        {
          "output_type": "stream",
          "name": "stdout",
          "text": [
            "2.6666666666666665\n"
          ]
        }
      ]
    },
    {
      "cell_type": "code",
      "metadata": {
        "id": "Swz27lkw46p4"
      },
      "source": [
        "some_bool = False"
      ],
      "execution_count": 10,
      "outputs": []
    },
    {
      "cell_type": "code",
      "metadata": {
        "id": "1srLd0394-3g",
        "outputId": "d4a6b23e-6993-4ee0-d402-6dac8902a9d3",
        "colab": {
          "base_uri": "https://localhost:8080/"
        }
      },
      "source": [
        "type(some_bool)"
      ],
      "execution_count": 11,
      "outputs": [
        {
          "output_type": "execute_result",
          "data": {
            "text/plain": [
              "bool"
            ]
          },
          "metadata": {},
          "execution_count": 11
        }
      ]
    },
    {
      "cell_type": "code",
      "metadata": {
        "id": "iVG3-KnQ5B2d",
        "outputId": "a3ec22d1-60af-49f4-c747-4169bee898a9",
        "colab": {
          "base_uri": "https://localhost:8080/"
        }
      },
      "source": [
        "some_other_bool = bool(False)\n",
        "some_other_bool"
      ],
      "execution_count": 12,
      "outputs": [
        {
          "output_type": "execute_result",
          "data": {
            "text/plain": [
              "False"
            ]
          },
          "metadata": {},
          "execution_count": 12
        }
      ]
    },
    {
      "cell_type": "code",
      "metadata": {
        "id": "9BaOPoPV5OWn",
        "outputId": "6f862698-2280-4cad-987c-1a7994381b6b",
        "colab": {
          "base_uri": "https://localhost:8080/"
        }
      },
      "source": [
        "bool()"
      ],
      "execution_count": 13,
      "outputs": [
        {
          "output_type": "execute_result",
          "data": {
            "text/plain": [
              "False"
            ]
          },
          "metadata": {},
          "execution_count": 13
        }
      ]
    },
    {
      "cell_type": "code",
      "metadata": {
        "id": "1clAB1Wn5Qsy",
        "outputId": "9fd14297-6f2b-48bc-bce6-9959955529fb",
        "colab": {
          "base_uri": "https://localhost:8080/"
        }
      },
      "source": [
        "bool([])"
      ],
      "execution_count": 14,
      "outputs": [
        {
          "output_type": "execute_result",
          "data": {
            "text/plain": [
              "False"
            ]
          },
          "metadata": {},
          "execution_count": 14
        }
      ]
    },
    {
      "cell_type": "code",
      "metadata": {
        "id": "ikc1wSRs5TPD",
        "outputId": "79bbb58b-84d7-41a9-f265-7f894a8c279b",
        "colab": {
          "base_uri": "https://localhost:8080/"
        }
      },
      "source": [
        "bool({})"
      ],
      "execution_count": 15,
      "outputs": [
        {
          "output_type": "execute_result",
          "data": {
            "text/plain": [
              "False"
            ]
          },
          "metadata": {},
          "execution_count": 15
        }
      ]
    },
    {
      "cell_type": "code",
      "metadata": {
        "id": "YTfUKX2-5VdH",
        "outputId": "8660e690-2955-4d6e-9932-8e4e820fcd21",
        "colab": {
          "base_uri": "https://localhost:8080/"
        }
      },
      "source": [
        "bool(())"
      ],
      "execution_count": 16,
      "outputs": [
        {
          "output_type": "execute_result",
          "data": {
            "text/plain": [
              "False"
            ]
          },
          "metadata": {},
          "execution_count": 16
        }
      ]
    },
    {
      "cell_type": "code",
      "metadata": {
        "id": "SfbHKsdH5Xq1",
        "outputId": "eb593cbf-580f-48e1-e7cb-4a53bfdf9792",
        "colab": {
          "base_uri": "https://localhost:8080/"
        }
      },
      "source": [
        "bool((1, 3))"
      ],
      "execution_count": 17,
      "outputs": [
        {
          "output_type": "execute_result",
          "data": {
            "text/plain": [
              "True"
            ]
          },
          "metadata": {},
          "execution_count": 17
        }
      ]
    },
    {
      "cell_type": "code",
      "metadata": {
        "id": "7bP-r-os5hTy"
      },
      "source": [
        "some_str = \"hello \"\n",
        "some_other_str = 'happy new year'"
      ],
      "execution_count": 18,
      "outputs": []
    },
    {
      "cell_type": "code",
      "metadata": {
        "id": "bKFczqox5nUc"
      },
      "source": [
        "merge_str = some_str + some_other_str # concatenation"
      ],
      "execution_count": 19,
      "outputs": []
    },
    {
      "cell_type": "code",
      "metadata": {
        "id": "rBqo7-ws5vw3",
        "outputId": "84aca487-1c93-4e64-d658-f2dd24f83fa0",
        "colab": {
          "base_uri": "https://localhost:8080/"
        }
      },
      "source": [
        "print (merge_str)"
      ],
      "execution_count": 20,
      "outputs": [
        {
          "output_type": "stream",
          "name": "stdout",
          "text": [
            "hello happy new year\n"
          ]
        }
      ]
    },
    {
      "cell_type": "code",
      "metadata": {
        "id": "K29mB5kW6Bub",
        "outputId": "ffcf875c-dcb3-4613-e887-0459e5d6c02c",
        "colab": {
          "base_uri": "https://localhost:8080/"
        }
      },
      "source": [
        "for every_char in merge_str:\n",
        "  print (every_char)"
      ],
      "execution_count": 21,
      "outputs": [
        {
          "output_type": "stream",
          "name": "stdout",
          "text": [
            "h\n",
            "e\n",
            "l\n",
            "l\n",
            "o\n",
            " \n",
            "h\n",
            "a\n",
            "p\n",
            "p\n",
            "y\n",
            " \n",
            "n\n",
            "e\n",
            "w\n",
            " \n",
            "y\n",
            "e\n",
            "a\n",
            "r\n"
          ]
        }
      ]
    },
    {
      "cell_type": "code",
      "metadata": {
        "id": "zGEuwObI6mpi",
        "outputId": "0b9cda15-2d57-483d-9dec-0fd81dbc5eed",
        "colab": {
          "base_uri": "https://localhost:8080/"
        }
      },
      "source": [
        "for every_char in merge_str: print (every_char, end=\"\")"
      ],
      "execution_count": 22,
      "outputs": [
        {
          "output_type": "stream",
          "name": "stdout",
          "text": [
            "hello happy new year"
          ]
        }
      ]
    },
    {
      "cell_type": "markdown",
      "metadata": {
        "id": "icfeOEilxRpS"
      },
      "source": [
        "#### Type Casting"
      ]
    },
    {
      "cell_type": "code",
      "metadata": {
        "id": "k4KUIUtMxkDs",
        "outputId": "f7e9fd98-1963-40a1-bd2a-30fdc351dfee",
        "colab": {
          "base_uri": "https://localhost:8080/"
        }
      },
      "source": [
        "i = 4\n",
        "j = float(i)\n",
        "print (j)"
      ],
      "execution_count": 23,
      "outputs": [
        {
          "output_type": "stream",
          "name": "stdout",
          "text": [
            "4.0\n"
          ]
        }
      ]
    },
    {
      "cell_type": "code",
      "metadata": {
        "id": "2emiqfVo2LXn",
        "outputId": "505d491d-2d8e-4543-b27f-86b0b3c56ba3",
        "colab": {
          "base_uri": "https://localhost:8080/"
        }
      },
      "source": [
        "type(j)"
      ],
      "execution_count": 24,
      "outputs": [
        {
          "output_type": "execute_result",
          "data": {
            "text/plain": [
              "float"
            ]
          },
          "metadata": {},
          "execution_count": 24
        }
      ]
    },
    {
      "cell_type": "code",
      "metadata": {
        "id": "eKw6bw3T2UhB",
        "outputId": "b2a6dc2d-6270-4e17-c6ed-36edfc612b4c",
        "colab": {
          "base_uri": "https://localhost:8080/"
        }
      },
      "source": [
        "i = int(j)\n",
        "type(i)"
      ],
      "execution_count": 25,
      "outputs": [
        {
          "output_type": "execute_result",
          "data": {
            "text/plain": [
              "int"
            ]
          },
          "metadata": {},
          "execution_count": 25
        }
      ]
    },
    {
      "cell_type": "code",
      "metadata": {
        "id": "l0pRioZH2ZFp",
        "outputId": "6f9e5cf6-5591-4fde-f4aa-69a261ba5c2b",
        "colab": {
          "base_uri": "https://localhost:8080/"
        }
      },
      "source": [
        "some_str = str(i)\n",
        "print(some_str)"
      ],
      "execution_count": 26,
      "outputs": [
        {
          "output_type": "stream",
          "name": "stdout",
          "text": [
            "4\n"
          ]
        }
      ]
    },
    {
      "cell_type": "code",
      "metadata": {
        "id": "tLKkWWrA2fOa",
        "outputId": "7bcbfef4-4bae-42b2-9b12-b87b432c9f24",
        "colab": {
          "base_uri": "https://localhost:8080/"
        }
      },
      "source": [
        "some_other_str = str(j)\n",
        "print (some_other_str)\n",
        "print (\"the new string now is \" + some_other_str) # string concatenation"
      ],
      "execution_count": 27,
      "outputs": [
        {
          "output_type": "stream",
          "name": "stdout",
          "text": [
            "4.0\n",
            "the new string now is 4.0\n"
          ]
        }
      ]
    },
    {
      "cell_type": "code",
      "metadata": {
        "id": "BzvOEP7S3DM7"
      },
      "source": [
        "some_bool = bool(some_other_str)"
      ],
      "execution_count": 28,
      "outputs": []
    },
    {
      "cell_type": "code",
      "metadata": {
        "id": "Ezy9S--R3ILJ",
        "outputId": "14c24ce0-e019-4e0a-e98a-45b6d43bda24",
        "colab": {
          "base_uri": "https://localhost:8080/"
        }
      },
      "source": [
        "some_bool"
      ],
      "execution_count": 29,
      "outputs": [
        {
          "output_type": "execute_result",
          "data": {
            "text/plain": [
              "True"
            ]
          },
          "metadata": {},
          "execution_count": 29
        }
      ]
    },
    {
      "cell_type": "markdown",
      "metadata": {
        "id": "sIYTZKz11myP"
      },
      "source": [
        "#### Set"
      ]
    },
    {
      "cell_type": "code",
      "metadata": {
        "id": "pUSDI8dcVz0m"
      },
      "source": [
        "# Set - collection of items which are not in any particular order and are not indexed. \n",
        "# Duplicates are not allowed in set\n",
        "# Constructor is set()\n",
        "some_set = {'a', 'c', (2.3, 3.2, 2)}"
      ],
      "execution_count": 30,
      "outputs": []
    },
    {
      "cell_type": "code",
      "metadata": {
        "id": "OQ6C43GzVAiZ",
        "outputId": "0421ee5f-6413-40a5-8d64-32780d435b13",
        "colab": {
          "base_uri": "https://localhost:8080/"
        }
      },
      "source": [
        "some_set"
      ],
      "execution_count": 31,
      "outputs": [
        {
          "output_type": "execute_result",
          "data": {
            "text/plain": [
              "{(2.3, 3.2, 2), 'a', 'c'}"
            ]
          },
          "metadata": {},
          "execution_count": 31
        }
      ]
    },
    {
      "cell_type": "code",
      "metadata": {
        "id": "LtTv6v9rU3If"
      },
      "source": [
        "some_set.update([1, 2, 3])"
      ],
      "execution_count": 32,
      "outputs": []
    },
    {
      "cell_type": "code",
      "metadata": {
        "id": "9LP1hydIUOpH",
        "outputId": "9bca7925-67e4-47c3-c512-4049dc0cabf6",
        "colab": {
          "base_uri": "https://localhost:8080/"
        }
      },
      "source": [
        "some_set"
      ],
      "execution_count": 33,
      "outputs": [
        {
          "output_type": "execute_result",
          "data": {
            "text/plain": [
              "{(2.3, 3.2, 2), 1, 2, 3, 'a', 'c'}"
            ]
          },
          "metadata": {},
          "execution_count": 33
        }
      ]
    },
    {
      "cell_type": "code",
      "metadata": {
        "id": "fPA9CCQ8Q6IN",
        "outputId": "1c04f1a0-739e-4c79-b38d-60edd5210974",
        "colab": {
          "base_uri": "https://localhost:8080/"
        }
      },
      "source": [
        "type(some_set)"
      ],
      "execution_count": 34,
      "outputs": [
        {
          "output_type": "execute_result",
          "data": {
            "text/plain": [
              "set"
            ]
          },
          "metadata": {},
          "execution_count": 34
        }
      ]
    },
    {
      "cell_type": "code",
      "metadata": {
        "id": "4IZt6LPeVL3W"
      },
      "source": [
        "some_set.add(5)"
      ],
      "execution_count": 35,
      "outputs": []
    },
    {
      "cell_type": "code",
      "metadata": {
        "id": "xr8c_BjPVS18",
        "outputId": "e9a7ba61-95ad-4832-9450-b35c167d276c",
        "colab": {
          "base_uri": "https://localhost:8080/"
        }
      },
      "source": [
        "some_set.pop()"
      ],
      "execution_count": 36,
      "outputs": [
        {
          "output_type": "execute_result",
          "data": {
            "text/plain": [
              "1"
            ]
          },
          "metadata": {},
          "execution_count": 36
        }
      ]
    },
    {
      "cell_type": "code",
      "metadata": {
        "id": "Vo38o55yVaPV",
        "outputId": "e160489f-4965-43cf-d8b7-c5ac88f79629",
        "colab": {
          "base_uri": "https://localhost:8080/"
        }
      },
      "source": [
        "for item in some_set: print (item)"
      ],
      "execution_count": 37,
      "outputs": [
        {
          "output_type": "stream",
          "name": "stdout",
          "text": [
            "2\n",
            "3\n",
            "(2.3, 3.2, 2)\n",
            "5\n",
            "c\n",
            "a\n"
          ]
        }
      ]
    },
    {
      "cell_type": "code",
      "metadata": {
        "id": "F6yTElmsVhHO",
        "outputId": "97c69791-b3a4-447d-f81c-758c5cee9fe6",
        "colab": {
          "base_uri": "https://localhost:8080/"
        }
      },
      "source": [
        "some_set.discard(3)\n",
        "some_set"
      ],
      "execution_count": 38,
      "outputs": [
        {
          "output_type": "execute_result",
          "data": {
            "text/plain": [
              "{(2.3, 3.2, 2), 2, 5, 'a', 'c'}"
            ]
          },
          "metadata": {},
          "execution_count": 38
        }
      ]
    },
    {
      "cell_type": "code",
      "metadata": {
        "id": "1nSJ7F3OXVdK"
      },
      "source": [
        "# set - union operator\n",
        "some_set = {'a', 'b', 'c'}\n",
        "some_other_set = {1, 2, 3}\n",
        "new_set = some_set | some_other_set"
      ],
      "execution_count": 39,
      "outputs": []
    },
    {
      "cell_type": "code",
      "metadata": {
        "id": "o8Wbaj5EXgN5",
        "outputId": "e854a75a-e197-42b4-f47b-eda834d63c72",
        "colab": {
          "base_uri": "https://localhost:8080/"
        }
      },
      "source": [
        "new_set"
      ],
      "execution_count": 40,
      "outputs": [
        {
          "output_type": "execute_result",
          "data": {
            "text/plain": [
              "{1, 2, 3, 'a', 'b', 'c'}"
            ]
          },
          "metadata": {},
          "execution_count": 40
        }
      ]
    },
    {
      "cell_type": "code",
      "metadata": {
        "id": "RftwibWYXqXM",
        "outputId": "6a90d289-3e69-41ad-d957-c963ed92f241",
        "colab": {
          "base_uri": "https://localhost:8080/"
        }
      },
      "source": [
        "some_set.union(some_other_set)"
      ],
      "execution_count": 41,
      "outputs": [
        {
          "output_type": "execute_result",
          "data": {
            "text/plain": [
              "{1, 2, 3, 'a', 'b', 'c'}"
            ]
          },
          "metadata": {},
          "execution_count": 41
        }
      ]
    },
    {
      "cell_type": "code",
      "metadata": {
        "id": "TOMRqxLqXt8F",
        "outputId": "9f91c716-6cf6-4fa6-8cad-60594f8599fb",
        "colab": {
          "base_uri": "https://localhost:8080/"
        }
      },
      "source": [
        "some_set"
      ],
      "execution_count": 42,
      "outputs": [
        {
          "output_type": "execute_result",
          "data": {
            "text/plain": [
              "{'a', 'b', 'c'}"
            ]
          },
          "metadata": {},
          "execution_count": 42
        }
      ]
    },
    {
      "cell_type": "code",
      "metadata": {
        "id": "TsCFAP95Xvi7",
        "outputId": "93de5c96-b615-4d32-d471-19e1a020af02",
        "colab": {
          "base_uri": "https://localhost:8080/"
        }
      },
      "source": [
        "some_other_set"
      ],
      "execution_count": 43,
      "outputs": [
        {
          "output_type": "execute_result",
          "data": {
            "text/plain": [
              "{1, 2, 3}"
            ]
          },
          "metadata": {},
          "execution_count": 43
        }
      ]
    },
    {
      "cell_type": "code",
      "metadata": {
        "id": "OjaEoS09X-UZ"
      },
      "source": [
        "# intersection - &\n",
        "new_set = {2, 3, 6}"
      ],
      "execution_count": 44,
      "outputs": []
    },
    {
      "cell_type": "code",
      "metadata": {
        "id": "iYspF8zbYLWC",
        "outputId": "42f531e8-3b8e-4d8a-930f-bee41f4b1825",
        "colab": {
          "base_uri": "https://localhost:8080/"
        }
      },
      "source": [
        "print(new_set & some_other_set)"
      ],
      "execution_count": 45,
      "outputs": [
        {
          "output_type": "stream",
          "name": "stdout",
          "text": [
            "{2, 3}\n"
          ]
        }
      ]
    },
    {
      "cell_type": "code",
      "metadata": {
        "id": "oUoeuL3QYcC6",
        "outputId": "32fd79cb-7862-4546-920e-487445717e85",
        "colab": {
          "base_uri": "https://localhost:8080/"
        }
      },
      "source": [
        "print (new_set.intersection(some_other_set))"
      ],
      "execution_count": 46,
      "outputs": [
        {
          "output_type": "stream",
          "name": "stdout",
          "text": [
            "{2, 3}\n"
          ]
        }
      ]
    },
    {
      "cell_type": "markdown",
      "metadata": {
        "id": "j_gdIAq3xkhj"
      },
      "source": [
        "#### List (extended data type)"
      ]
    },
    {
      "cell_type": "code",
      "metadata": {
        "id": "jPVlA4yXykkw"
      },
      "source": [
        "# List\n",
        "# A collection of items which are ordered. List is mutable.\n",
        "# Constructor is list()\n",
        "a = [1, 2, 3, \"hello\", 5]"
      ],
      "execution_count": 47,
      "outputs": []
    },
    {
      "cell_type": "code",
      "metadata": {
        "id": "RcAAcHcO4HVI"
      },
      "source": [
        "a.append('hi')"
      ],
      "execution_count": 48,
      "outputs": []
    },
    {
      "cell_type": "code",
      "metadata": {
        "id": "6aOeQG784Jmc",
        "outputId": "bfd3b3c5-961d-4106-e168-982446e56af8",
        "colab": {
          "base_uri": "https://localhost:8080/"
        }
      },
      "source": [
        "b = [2, 4, 'next']\n",
        "a.append(b)\n",
        "print (b)"
      ],
      "execution_count": 49,
      "outputs": [
        {
          "output_type": "stream",
          "name": "stdout",
          "text": [
            "[2, 4, 'next']\n"
          ]
        }
      ]
    },
    {
      "cell_type": "code",
      "metadata": {
        "id": "jhDrVLHy4ccH",
        "outputId": "3bf480e5-85e0-420d-af6f-6f8813e63b39",
        "colab": {
          "base_uri": "https://localhost:8080/"
        }
      },
      "source": [
        "c = a[2:4]\n",
        "print (c)"
      ],
      "execution_count": 50,
      "outputs": [
        {
          "output_type": "stream",
          "name": "stdout",
          "text": [
            "[3, 'hello']\n"
          ]
        }
      ]
    },
    {
      "cell_type": "code",
      "metadata": {
        "id": "DMe9VFw_4xn1",
        "outputId": "bac90f0d-94f2-4130-f675-92fa3905a800",
        "colab": {
          "base_uri": "https://localhost:8080/"
        }
      },
      "source": [
        "print (len(c))"
      ],
      "execution_count": 51,
      "outputs": [
        {
          "output_type": "stream",
          "name": "stdout",
          "text": [
            "2\n"
          ]
        }
      ]
    },
    {
      "cell_type": "code",
      "metadata": {
        "id": "rUQUC3pa4MhA",
        "outputId": "d183e1fc-9474-4e8a-8834-0fa37231fb64",
        "colab": {
          "base_uri": "https://localhost:8080/"
        }
      },
      "source": [
        "a = []\n",
        "print (a)"
      ],
      "execution_count": 52,
      "outputs": [
        {
          "output_type": "stream",
          "name": "stdout",
          "text": [
            "[]\n"
          ]
        }
      ]
    },
    {
      "cell_type": "markdown",
      "metadata": {
        "id": "c0QOr__1103r"
      },
      "source": [
        "#### Tuple (extended data type)"
      ]
    },
    {
      "cell_type": "code",
      "metadata": {
        "id": "6zPu2iJs2crj"
      },
      "source": [
        "# Tuple - collection of items which are ordered but immutable.\n",
        "# Constructor is tuple()\n",
        "a = (\"hello\", \"how\", (1, 2, 3), \"you\")"
      ],
      "execution_count": 53,
      "outputs": []
    },
    {
      "cell_type": "code",
      "metadata": {
        "id": "jQOy8m8j2gSo",
        "outputId": "4aaa2125-014d-433a-8bcb-82cd08c9e16c",
        "colab": {
          "base_uri": "https://localhost:8080/"
        }
      },
      "source": [
        "print (type(a))"
      ],
      "execution_count": 54,
      "outputs": [
        {
          "output_type": "stream",
          "name": "stdout",
          "text": [
            "<class 'tuple'>\n"
          ]
        }
      ]
    },
    {
      "cell_type": "code",
      "metadata": {
        "id": "NyRXLzGc403j",
        "outputId": "bdfb7239-a34c-4ead-8bf6-28fcbf1918f6",
        "colab": {
          "base_uri": "https://localhost:8080/"
        }
      },
      "source": [
        "print (len(a))"
      ],
      "execution_count": 55,
      "outputs": [
        {
          "output_type": "stream",
          "name": "stdout",
          "text": [
            "4\n"
          ]
        }
      ]
    },
    {
      "cell_type": "code",
      "metadata": {
        "id": "RXX7JrZXk8mW",
        "outputId": "782bee04-a58f-4762-a5e7-30e48264d7d7",
        "colab": {
          "base_uri": "https://localhost:8080/"
        }
      },
      "source": [
        "for i in range(0, len(a)): print (a[i])"
      ],
      "execution_count": 56,
      "outputs": [
        {
          "output_type": "stream",
          "name": "stdout",
          "text": [
            "hello\n",
            "how\n",
            "(1, 2, 3)\n",
            "you\n"
          ]
        }
      ]
    },
    {
      "cell_type": "code",
      "metadata": {
        "id": "mMUF7ZBz2gO0",
        "outputId": "f9e14903-cd19-4614-da05-e444b409ed8d",
        "colab": {
          "base_uri": "https://localhost:8080/"
        }
      },
      "source": [
        "print (a[0])"
      ],
      "execution_count": 57,
      "outputs": [
        {
          "output_type": "stream",
          "name": "stdout",
          "text": [
            "hello\n"
          ]
        }
      ]
    },
    {
      "cell_type": "code",
      "metadata": {
        "id": "56ure9QY2gLL"
      },
      "source": [
        "b = a[1:3]"
      ],
      "execution_count": 58,
      "outputs": []
    },
    {
      "cell_type": "code",
      "metadata": {
        "id": "Jauf9eI9kyBS",
        "outputId": "98cf7a5e-4f1b-427f-fb63-c2b969772daf",
        "colab": {
          "base_uri": "https://localhost:8080/"
        }
      },
      "source": [
        "type(b)"
      ],
      "execution_count": 59,
      "outputs": [
        {
          "output_type": "execute_result",
          "data": {
            "text/plain": [
              "tuple"
            ]
          },
          "metadata": {},
          "execution_count": 59
        }
      ]
    },
    {
      "cell_type": "code",
      "metadata": {
        "id": "BJECFoFI28zD",
        "outputId": "d0949ebc-8d9d-4919-8a16-4801eb9700cd",
        "colab": {
          "base_uri": "https://localhost:8080/"
        }
      },
      "source": [
        "print (b)"
      ],
      "execution_count": 60,
      "outputs": [
        {
          "output_type": "stream",
          "name": "stdout",
          "text": [
            "('how', (1, 2, 3))\n"
          ]
        }
      ]
    },
    {
      "cell_type": "code",
      "metadata": {
        "id": "5gx8RJnq5GiE",
        "outputId": "4194a56b-7509-4deb-ad7e-db105f7411da",
        "colab": {
          "base_uri": "https://localhost:8080/"
        }
      },
      "source": [
        "print (b[-1])"
      ],
      "execution_count": 61,
      "outputs": [
        {
          "output_type": "stream",
          "name": "stdout",
          "text": [
            "(1, 2, 3)\n"
          ]
        }
      ]
    },
    {
      "cell_type": "code",
      "metadata": {
        "id": "MjpzmtXBtjdE",
        "outputId": "5fe46206-cc02-4883-fde8-0650f3d5f3ef",
        "colab": {
          "base_uri": "https://localhost:8080/"
        }
      },
      "source": [
        "#using Constructor\n",
        "new_list = list(('this', 1, \"is\", \"fine\"))\n",
        "new_list"
      ],
      "execution_count": 62,
      "outputs": [
        {
          "output_type": "execute_result",
          "data": {
            "text/plain": [
              "['this', 1, 'is', 'fine']"
            ]
          },
          "metadata": {},
          "execution_count": 62
        }
      ]
    },
    {
      "cell_type": "markdown",
      "metadata": {
        "id": "WtFeKcuL16MW"
      },
      "source": [
        "#### Dictionary (extended data type)"
      ]
    },
    {
      "cell_type": "code",
      "metadata": {
        "id": "kOrp2T1s6sCc"
      },
      "source": [
        "# Dictionary - collection of pairs of (key, value) which are mutable\n",
        "# Constructor is dict()"
      ],
      "execution_count": 63,
      "outputs": []
    },
    {
      "cell_type": "code",
      "metadata": {
        "id": "zDByZj8kWWxh"
      },
      "source": [
        "some_dict = dict({\"age\": 47, \n",
        "                  \"name\": \"Amar\", \n",
        "                  \"marks\": [23, 25, 24, 23]})"
      ],
      "execution_count": 64,
      "outputs": []
    },
    {
      "cell_type": "code",
      "metadata": {
        "id": "cLsbT3Ovvug0",
        "outputId": "b682f4ad-3801-4972-97ed-c062bfe9816b",
        "colab": {
          "base_uri": "https://localhost:8080/"
        }
      },
      "source": [
        "type(some_dict)"
      ],
      "execution_count": 65,
      "outputs": [
        {
          "output_type": "execute_result",
          "data": {
            "text/plain": [
              "dict"
            ]
          },
          "metadata": {},
          "execution_count": 65
        }
      ]
    },
    {
      "cell_type": "code",
      "metadata": {
        "id": "j6uIEOVsvixp"
      },
      "source": [
        "another_dict = {\"age\": 47, \n",
        "                  \"name\": \"Amar\", \n",
        "                  \"marks\": [23, 25, 24, 23]}"
      ],
      "execution_count": 66,
      "outputs": []
    },
    {
      "cell_type": "code",
      "metadata": {
        "id": "0-RkMWtevneW",
        "outputId": "cf60dd5c-11fe-4cc4-e49a-5cf67970d882",
        "colab": {
          "base_uri": "https://localhost:8080/"
        }
      },
      "source": [
        "type(another_dict)"
      ],
      "execution_count": 67,
      "outputs": [
        {
          "output_type": "execute_result",
          "data": {
            "text/plain": [
              "dict"
            ]
          },
          "metadata": {},
          "execution_count": 67
        }
      ]
    },
    {
      "cell_type": "code",
      "metadata": {
        "id": "ScUuut2DRtwW",
        "outputId": "cc87044f-8f41-4cfd-bff5-2f1091b4a53b",
        "colab": {
          "base_uri": "https://localhost:8080/"
        }
      },
      "source": [
        "print (another_dict.get(\"marks\"))"
      ],
      "execution_count": 68,
      "outputs": [
        {
          "output_type": "stream",
          "name": "stdout",
          "text": [
            "[23, 25, 24, 23]\n"
          ]
        }
      ]
    },
    {
      "cell_type": "code",
      "metadata": {
        "id": "Jr2ocM04wdwG"
      },
      "source": [
        "# update value against a key\n",
        "another_dict[\"marks\"] = [23, 24, 25]"
      ],
      "execution_count": 69,
      "outputs": []
    },
    {
      "cell_type": "code",
      "metadata": {
        "id": "5FLSAGzlxUMi"
      },
      "source": [
        "# adding a new key-value pair\n",
        "another_dict[\"gender\"] = \"Male\""
      ],
      "execution_count": 70,
      "outputs": []
    },
    {
      "cell_type": "code",
      "metadata": {
        "id": "3xFsIN13zS48",
        "outputId": "7676d7f9-01be-435d-a8bc-b3b0b245563f",
        "colab": {
          "base_uri": "https://localhost:8080/"
        }
      },
      "source": [
        "another_dict"
      ],
      "execution_count": 71,
      "outputs": [
        {
          "output_type": "execute_result",
          "data": {
            "text/plain": [
              "{'age': 47, 'gender': 'Male', 'marks': [23, 24, 25], 'name': 'Amar'}"
            ]
          },
          "metadata": {},
          "execution_count": 71
        }
      ]
    },
    {
      "cell_type": "code",
      "metadata": {
        "id": "lgNNC1V1zJ_p",
        "outputId": "889acecd-7ced-4cf7-f765-8f6104e9989e",
        "colab": {
          "base_uri": "https://localhost:8080/",
          "height": 0
        }
      },
      "source": [
        "# removing a key-value pair using pop\n",
        "another_dict.pop(\"gender\")"
      ],
      "execution_count": 72,
      "outputs": [
        {
          "output_type": "execute_result",
          "data": {
            "application/vnd.google.colaboratory.intrinsic+json": {
              "type": "string"
            },
            "text/plain": [
              "'Male'"
            ]
          },
          "metadata": {},
          "execution_count": 72
        }
      ]
    },
    {
      "cell_type": "code",
      "metadata": {
        "id": "zLcTq049y_7F",
        "outputId": "7f3b9116-31c0-4743-fe24-f48edd203e52",
        "colab": {
          "base_uri": "https://localhost:8080/"
        }
      },
      "source": [
        "another_dict"
      ],
      "execution_count": 73,
      "outputs": [
        {
          "output_type": "execute_result",
          "data": {
            "text/plain": [
              "{'age': 47, 'marks': [23, 24, 25], 'name': 'Amar'}"
            ]
          },
          "metadata": {},
          "execution_count": 73
        }
      ]
    },
    {
      "cell_type": "code",
      "metadata": {
        "id": "a5kPOWcJwSVy",
        "outputId": "5e26d2ce-1390-4301-fa1f-ab396b28e8cf",
        "colab": {
          "base_uri": "https://localhost:8080/"
        }
      },
      "source": [
        "print (some_dict.keys())"
      ],
      "execution_count": 74,
      "outputs": [
        {
          "output_type": "stream",
          "name": "stdout",
          "text": [
            "dict_keys(['age', 'name', 'marks'])\n"
          ]
        }
      ]
    },
    {
      "cell_type": "markdown",
      "metadata": {
        "id": "n6S0H1QCzvjY"
      },
      "source": [
        "#### Python Identity Operators - is, is not"
      ]
    },
    {
      "cell_type": "code",
      "metadata": {
        "id": "9pBVi4a0z2q5"
      },
      "source": [
        "a = [\"some\", \"list\"]\n",
        "b = [\"some\", \"list\"]\n"
      ],
      "execution_count": 75,
      "outputs": []
    },
    {
      "cell_type": "code",
      "metadata": {
        "id": "a_rsTrml6M1o",
        "outputId": "ae43dfa5-1b5c-447b-890f-de2d7335ff29",
        "colab": {
          "base_uri": "https://localhost:8080/"
        }
      },
      "source": [
        "if a is b: \n",
        "   print ('a and b reference the same object')\n",
        "else:\n",
        "   print ('a and b do not reference the same object')"
      ],
      "execution_count": 76,
      "outputs": [
        {
          "output_type": "stream",
          "name": "stdout",
          "text": [
            "a and b do not reference the same object\n"
          ]
        }
      ]
    },
    {
      "cell_type": "code",
      "metadata": {
        "id": "3Cf-mRXx6Olj",
        "outputId": "53632f74-c128-4913-8da9-6729f354c665",
        "colab": {
          "base_uri": "https://localhost:8080/"
        }
      },
      "source": [
        "if a == b:\n",
        "   print ('However, the values of a and b are the same')\n",
        "else:\n",
        "   print (\"The values of a and b are different\")"
      ],
      "execution_count": 77,
      "outputs": [
        {
          "output_type": "stream",
          "name": "stdout",
          "text": [
            "However, the values of a and b are the same\n"
          ]
        }
      ]
    },
    {
      "cell_type": "code",
      "metadata": {
        "id": "2E_co7_i6MbJ",
        "outputId": "ed7499db-4918-4760-e021-3f64a47a9063",
        "colab": {
          "base_uri": "https://localhost:8080/"
        }
      },
      "source": [
        "if a is not b:\n",
        "   print ('tested, they are indeed different')"
      ],
      "execution_count": 78,
      "outputs": [
        {
          "output_type": "stream",
          "name": "stdout",
          "text": [
            "tested, they are indeed different\n"
          ]
        }
      ]
    },
    {
      "cell_type": "markdown",
      "metadata": {
        "id": "sWA5Ii-BU7vA"
      },
      "source": [
        ""
      ]
    },
    {
      "cell_type": "markdown",
      "metadata": {
        "id": "JkZFcHU2z3OC"
      },
      "source": [
        "#### Python Membership Operators - in, not in"
      ]
    },
    {
      "cell_type": "code",
      "metadata": {
        "id": "CR8tAc1_rW11"
      },
      "source": [
        "a = [\"this\", \"is\", \"a\", \"new\", \"list\"]"
      ],
      "execution_count": 79,
      "outputs": []
    },
    {
      "cell_type": "code",
      "metadata": {
        "id": "UibZiI5e2cBj",
        "outputId": "7ddd661c-95e3-401c-f4a0-725fc4fa5c81",
        "colab": {
          "base_uri": "https://localhost:8080/"
        }
      },
      "source": [
        "% time\n",
        "for item in a: \n",
        "  print (item)"
      ],
      "execution_count": 80,
      "outputs": [
        {
          "output_type": "stream",
          "name": "stdout",
          "text": [
            "CPU times: user 2 µs, sys: 0 ns, total: 2 µs\n",
            "Wall time: 7.15 µs\n",
            "this\n",
            "is\n",
            "a\n",
            "new\n",
            "list\n"
          ]
        }
      ]
    },
    {
      "cell_type": "code",
      "metadata": {
        "id": "n_uiZE9CsPMF",
        "outputId": "c24192e2-eb98-47b3-eea5-33e9aa693cf8",
        "colab": {
          "base_uri": "https://localhost:8080/"
        }
      },
      "source": [
        "% time\n",
        "for item in a:\n",
        "  print (item, end=\" \")"
      ],
      "execution_count": 81,
      "outputs": [
        {
          "output_type": "stream",
          "name": "stdout",
          "text": [
            "CPU times: user 2 µs, sys: 1 µs, total: 3 µs\n",
            "Wall time: 5.01 µs\n",
            "this is a new list "
          ]
        }
      ]
    },
    {
      "cell_type": "code",
      "metadata": {
        "id": "Zo1Ec35N2cgk",
        "outputId": "008e6a0f-2900-4c0c-c376-8367043932ab",
        "colab": {
          "base_uri": "https://localhost:8080/"
        }
      },
      "source": [
        "if \"new\" in a: print ('Yes, matching item found')"
      ],
      "execution_count": 82,
      "outputs": [
        {
          "output_type": "stream",
          "name": "stdout",
          "text": [
            "Yes, matching item found\n"
          ]
        }
      ]
    },
    {
      "cell_type": "code",
      "metadata": {
        "id": "5bieGXu5z9Qk",
        "outputId": "4591f05a-06b5-4792-8c62-d528bda16d21",
        "colab": {
          "base_uri": "https://localhost:8080/"
        }
      },
      "source": [
        "if (\"list\" not in a):\n",
        "  print (\"Am I wrong\")\n",
        "else:\n",
        "  print (\"Am I right\")"
      ],
      "execution_count": 83,
      "outputs": [
        {
          "output_type": "stream",
          "name": "stdout",
          "text": [
            "Am I right\n"
          ]
        }
      ]
    },
    {
      "cell_type": "markdown",
      "metadata": {
        "id": "AbmcGntt-yTg"
      },
      "source": [
        "#### More Detailed Examples"
      ]
    },
    {
      "cell_type": "markdown",
      "metadata": {
        "id": "sH8rekL73ae4"
      },
      "source": [
        "1. [Python Variables, Data Types](https://www.w3schools.com/python/python_variables.asp) and \n",
        "[Python Exercises ](https://www.w3schools.com/python/python_exercises.asp)\n",
        "2. [Official Python Documentation](https://docs.python.org/3/tutorial/introduction.html)"
      ]
    }
  ]
}