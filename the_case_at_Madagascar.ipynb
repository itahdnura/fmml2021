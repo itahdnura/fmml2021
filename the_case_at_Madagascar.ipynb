{
  "nbformat": 4,
  "nbformat_minor": 0,
  "metadata": {
    "colab": {
      "name": "the_case_at_Madagascar.ipynb",
      "provenance": [],
      "authorship_tag": "ABX9TyMGTCiRh7aG52/J97t5NNpI",
      "include_colab_link": true
    },
    "kernelspec": {
      "name": "python3",
      "display_name": "Python 3"
    },
    "language_info": {
      "name": "python"
    }
  },
  "cells": [
    {
      "cell_type": "markdown",
      "metadata": {
        "id": "view-in-github",
        "colab_type": "text"
      },
      "source": [
        "<a href=\"https://colab.research.google.com/github/itahdnura/fmml2021/blob/main/the_case_at_Madagascar.ipynb\" target=\"_parent\"><img src=\"https://colab.research.google.com/assets/colab-badge.svg\" alt=\"Open In Colab\"/></a>"
      ]
    },
    {
      "cell_type": "code",
      "metadata": {
        "id": "5abfilJHZs8-"
      },
      "source": [
        "#Data\n",
        "#citizen_id: [age, blood_sugar, pollutant_level]"
      ],
      "execution_count": 2,
      "outputs": []
    },
    {
      "cell_type": "code",
      "metadata": {
        "id": "G3bDZ94Xaakb"
      },
      "source": [
        "def risk_check(citizen_id):\n",
        "  weight = [0.05, 0.002, 0.02]\n",
        "  weighted_sum = 0\n",
        "  for i in range(len(citizen_id)):\n",
        "    weighted_sum += weight[i]*citizen_id[i]\n",
        "  if weighted_sum > 4.0:\n",
        "    print(\"Risk-prone\")\n",
        "    return 1\n",
        "  print(\"NOT Risk-prone\")\n",
        "  return 0"
      ],
      "execution_count": 3,
      "outputs": []
    }
  ]
}